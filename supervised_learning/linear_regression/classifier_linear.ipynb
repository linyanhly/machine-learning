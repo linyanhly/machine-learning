{
 "cells": [
  {
   "cell_type": "code",
   "execution_count": 1,
   "metadata": {},
   "outputs": [
    {
     "name": "stdout",
     "output_type": "stream",
     "text": [
      "<class 'pandas.core.frame.DataFrame'>\n",
      "RangeIndex: 17 entries, 0 to 16\n",
      "Data columns (total 2 columns):\n",
      "密度     17 non-null float64\n",
      "含糖率    17 non-null float64\n",
      "dtypes: float64(2)\n",
      "memory usage: 352.0 bytes\n",
      "y: [1. 1. 1. 1. 1. 1. 1. 1. 0. 0. 0. 0. 0. 0. 0. 0. 0.]\n",
      "X: [[0.6970000000000001 0.46]\n",
      " [0.774 0.376]\n",
      " [0.634 0.264]\n",
      " [0.608 0.318]\n",
      " [0.556 0.215]\n",
      " [0.40299999999999997 0.237]\n",
      " [0.48100000000000004 0.149]\n",
      " [0.43700000000000006 0.21100000000000002]\n",
      " [0.6659999999999999 0.091]\n",
      " [0.23399999999999999 0.267]\n",
      " [0.245 0.057]\n",
      " [0.34299999999999997 0.099]\n",
      " [0.639 0.161]\n",
      " [0.657 0.198]\n",
      " [0.36 0.37]\n",
      " [0.593 0.042]\n",
      " [0.7190000000000001 0.10300000000000001]]\n"
     ]
    }
   ],
   "source": [
    "import numpy as np\n",
    "import pandas as pd\n",
    "import copy\n",
    "import matplotlib.pyplot as plt\n",
    "from matplotlib import pyplot as plt\n",
    "from mpl_toolkits.mplot3d import Axes3D\n",
    "import warnings\n",
    "\n",
    "warnings.filterwarnings(\"ignore\")\n",
    "#---------导入数据-----------#\n",
    "data = pd.read_table('melon_dataset.txt')\n",
    "# print(data)\n",
    "data1 = copy.copy(data)\n",
    "data1['好瓜'] = data1['好瓜']=='是'\n",
    "data1['好瓜'] = data1['好瓜'].astype(np.int)\n",
    "# print(data)\n",
    "# print(data1)\n",
    "datas = data[['密度','含糖率']]\n",
    "datas.hist(bins=50,figsize=(20,15))\n",
    "datas.head()\n",
    "datas.info()\n",
    "data1.plot(kind=\"scatter\", x=\"密度\", y=\"含糖率\",label='好瓜',c='好瓜',\n",
    "          alpha=0.8,cmap=plt.get_cmap(\"jet\"),colorbar=True)\n",
    "plt.legend()\n",
    "# data1.plot(kind=\"scatter\", x=\"密度\", y=\"含糖率\",color='red')\n",
    "# data2.plot(kind=\"scatter\", x=\"密度\", y=\"含糖率\",color='blue')\n",
    "\n",
    "# data1.plot(kind=\"scatter\", x=\"密度\", y=\"含糖率\",label='好瓜',c='好瓜',\n",
    "#           alpha=0.8,cmap=plt.get_cmap(\"jet\"),colorbar=True)\n",
    "# plt.legend()\n",
    "# x1 = np.arange(0.1,1,0.01)\n",
    "# x2 = np.arange(0.1,1,0.01)\n",
    "# y = 0.4383848667366168 2.1751153149824844 -0.22559980671212054\n",
    "# plt.plot(x1,y)\n",
    "# fig = plt.figure()\n",
    "# ax1 = plt.axes(projection='3d')\n",
    "# zd = data1['好瓜'].values\n",
    "# xd = data1['密度'].values\n",
    "# yd = data1['含糖率'].values\n",
    "# ax1.scatter3D(xd,yd,zd, cmap='Blues')  #绘制散点图\n",
    "# x1 = np.arange(0.1,0.5,0.01)\n",
    "# x2 = np.arange(0.1,0.5,0.01)\n",
    "# y = 0.4383848667366168*x1+ 2.1751153149824844*x2 -0.22559980671212054\n",
    "# ax1.plot3D(x1,x2,y,'gray')    #绘制空间曲线\n",
    "\n",
    "#---------处理数据-----------#\n",
    "\n",
    "data = data.T\n",
    "#print('data:',data)\n",
    "X = data.iloc[1:3]\n",
    "Y = data.iloc[3]\n",
    "#print('X:',X)\n",
    "#print('Y',Y)\n",
    "#转化为标签(为列向量)\n",
    "Y = Y=='是'\n",
    "Y = Y.values\n",
    "y = Y.astype(np.int)\n",
    "y = y.T\n",
    "y = y.astype(np.float)\n",
    "print('y:',y)\n",
    "#转化为特征值(为两个列向量)\n",
    "X = X.values\n",
    "X = X.T\n",
    "print('X:',X)\n",
    "#给特征值添加偏置**************************\n",
    "X = np.c_[X,np.ones(X.shape[0])]"
   ]
  },
  {
   "cell_type": "code",
   "execution_count": 2,
   "metadata": {},
   "outputs": [
    {
     "name": "stdout",
     "output_type": "stream",
     "text": [
      "pre: [0.0 0.0 0.0 0.0 0.0 0.0 0.0 0.0 0.0 0.0 0.0 0.0 0.0 0.0 0.0 0.0 0.0]\n",
      "loss: 0.23529411764705885\n",
      "pre [1.080507487227321 0.9315534369683709 0.6265666415434148\n",
      " 0.7326248611509789 0.48579197197527874 0.4665716235001644\n",
      " 0.30935549690932646 0.42492371126332446 0.2643000104036281\n",
      " 0.45773803951115194 0.005786059988926506 0.14010261985072686\n",
      " 0.4047216899482459 0.49309188372118323 0.7370114090545596\n",
      " 0.12571726518466164 0.31363579210998965]\n",
      "0.7058823529411765\n"
     ]
    },
    {
     "data": {
      "image/png": "[encoded data removed]",
      "text/plain": [
       "<Figure size 432x288 with 1 Axes>"
      ]
     },
     "metadata": {
      "needs_background": "light"
     },
     "output_type": "display_data"
    },
    {
     "name": "stdout",
     "output_type": "stream",
     "text": [
      "W_normal [0.4383848667366168 2.1751153149824844 -0.22559980671212054]\n",
      "pre1 [1.0805074902952443 0.9315534385754352 0.6265666419542705\n",
      " 0.7326248624281726 0.4857919719146726 0.4665716242335848\n",
      " 0.30935549612058233 0.4249237115130853 0.2643000081978723\n",
      " 0.45773804120457107 0.005786058592352178 0.14010261876180496\n",
      " 0.40472168884475757 0.49309188310036856 0.7370114118565807\n",
      " 0.12571726249195758 0.31363578991470287]\n",
      "acc1 0.7058823529411765\n"
     ]
    }
   ],
   "source": [
    "#-----------迭代算法----------#\n",
    "\n",
    "def linear(X,y,k):\n",
    "    W = np.zeros(X.shape[1])\n",
    "    pre = np.dot(X,W)\n",
    "    print(\"pre:\",pre)\n",
    "    loss = np.dot((y-pre).T,(y-pre)/(len(y)*2))\n",
    "    print(\"loss:\",loss)\n",
    "    loss = np.zeros(k)\n",
    "    for i in range(k):\n",
    "        W = W - 0.15*np.dot(X.T,pre-y)/len(y)\n",
    "        pre = np.dot(X,W)\n",
    "        loss[i] = np.dot((y-pre).T,(y-pre))/(len(y)*2)\n",
    "    t = y.sum()\n",
    "    print(\"pre\",pre)\n",
    "    acc = pre>t/len(y)\n",
    "    acc = acc.astype(np.int)\n",
    "    acc = acc==y\n",
    "    acc = acc.astype(np.int)\n",
    "    acc = acc.sum()/len(y)\n",
    "    return acc,loss\n",
    "\n",
    "#----------验证算法准确率-------------#\n",
    "acc,loss = linear(X,y,10000)\n",
    "print(acc)\n",
    "\n",
    "#-----------画损失函数----------#\n",
    "plt.plot(loss)\n",
    "plt.ylim(0.075,0.15)\n",
    "plt.show()\n",
    "\n",
    "#-----------正规方程组法------------#\n",
    "\n",
    "W_normal = np.dot(X.T,X)\n",
    "W_normal = np.array(W_normal,dtype='float')\n",
    "W_normal = np.linalg.pinv(W_normal)\n",
    "W_normal = np.dot(W_normal,X.T)\n",
    "W_normal = np.dot(W_normal,y)\n",
    "print(\"W_normal\",W_normal)\n",
    "pre1 = np.dot(X,W_normal)\n",
    "print(\"pre1\",pre1)\n",
    "t = y.sum()\n",
    "acc1 = pre1>t/len(y)\n",
    "acc1 = acc1.astype(np.int)\n",
    "acc1 = acc1==y\n",
    "acc1 = acc1.astype(np.int)\n",
    "acc1 = acc1.sum()/len(y)\n",
    "print(\"acc1\",acc1)"
   ]
  }
 ],
 "metadata": {
  "kernelspec": {
   "display_name": "Python 3",
   "language": "python",
   "name": "python3"
  },
  "language_info": {
   "codemirror_mode": {
    "name": "ipython",
    "version": 3
   },
   "file_extension": ".py",
   "mimetype": "text/x-python",
   "name": "python",
   "nbconvert_exporter": "python",
   "pygments_lexer": "ipython3",
   "version": "3.6.8"
  }
 },
 "nbformat": 4,
 "nbformat_minor": 2
}
